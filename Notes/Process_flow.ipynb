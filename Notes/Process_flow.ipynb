{
 "cells": [
  {
   "cell_type": "markdown",
   "metadata": {},
   "source": [
    "# Process flow\n",
    "1. User save the new report with enrollment_report\n",
    "2. Program upload the file\n",
    "3. Prepare data: delete useless rows and columns, convert column headers, data, dates\n",
    "4. Check enrollment for each modules making sure it's max 1 employee employment per module\n",
    "5. Make a list of employees enrolled (one per row) with modules enrollment data: status, date, facilitator, Attendance\n",
    "6. Export the new file"
   ]
  },
  {
   "cell_type": "markdown",
   "metadata": {},
   "source": [
    "# Tasks performed by the program\n",
    "- Upload the file\n",
    "- Delete row 1 \"PPG CR - Course Offering Enrollments\"\n",
    "- Delete a specific list of columns\n",
    "- Rename remaining column to Python standard i.e. _ instead of spaces\n",
    "- Convert data in PPG_ID column to numbers\n",
    "- Convert Offering_Start_Date to format Jan-11 or similar. Delete time\n",
    "- Search in Registration_Status and deleted all row where Registration_Status is not Enrolled or Enrolled Pending Approval\n",
    "- Convert Enrolled Pending Approval into Pending Approval\n",
    "- Check if someone is enrolled twice to the same module. If Course_Attendance_Status is the same, compare Offering_Start_Date and keep the row with the most recent date. If Course_Attendance_Status are different, delete the rows where it is Did Not Attend\n",
    "- Check again if someone is enrolled twice\n",
    "- Create a new file to be shared with facilitators i.e. employee (one per row) with modules enrollment data: status, date, facilitator, Attendance. If empty leave table blank\n",
    "- Save the file with name EoL_enrollment report_YYYYMMDD\n"
   ]
  }
 ],
 "metadata": {
  "language_info": {
   "name": "python"
  }
 },
 "nbformat": 4,
 "nbformat_minor": 2
}
